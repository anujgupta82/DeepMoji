{
 "cells": [
  {
   "cell_type": "markdown",
   "metadata": {},
   "source": [
    "# implement imdb example via notebook"
   ]
  },
  {
   "cell_type": "code",
   "execution_count": 13,
   "metadata": {
    "collapsed": true
   },
   "outputs": [],
   "source": [
    "% matplotlib inline"
   ]
  },
  {
   "cell_type": "code",
   "execution_count": 1,
   "metadata": {},
   "outputs": [
    {
     "name": "stderr",
     "output_type": "stream",
     "text": [
      "Using TensorFlow backend.\n"
     ]
    }
   ],
   "source": [
    "from __future__ import print_function\n",
    "from examples import example_helper\n",
    "import numpy as np\n",
    "from keras.preprocessing import sequence\n",
    "from keras.datasets import imdb\n",
    "from deepmoji.model_def import deepmoji_architecture"
   ]
  },
  {
   "cell_type": "code",
   "execution_count": 2,
   "metadata": {
    "collapsed": true
   },
   "outputs": [],
   "source": [
    "# Seed for reproducibility\n",
    "np.random.seed(1337)\n",
    "\n",
    "nb_tokens = 20000\n",
    "maxlen = 80\n",
    "batch_size = 32"
   ]
  },
  {
   "cell_type": "code",
   "execution_count": 3,
   "metadata": {},
   "outputs": [
    {
     "name": "stdout",
     "output_type": "stream",
     "text": [
      "Loading data...\n"
     ]
    },
    {
     "name": "stderr",
     "output_type": "stream",
     "text": [
      "/Users/admin/.virtualenvs/keras_2_0/lib/python2.7/site-packages/keras/datasets/imdb.py:44: UserWarning: The `nb_words` argument in `load_data` has been renamed `num_words`.\n",
      "  warnings.warn('The `nb_words` argument in `load_data` '\n"
     ]
    },
    {
     "name": "stdout",
     "output_type": "stream",
     "text": [
      "25000 train sequences\n",
      "25000 test sequences\n"
     ]
    }
   ],
   "source": [
    "print('Loading data...')\n",
    "(X_train, y_train), (X_test, y_test) = imdb.load_data(nb_words=nb_tokens)\n",
    "print(len(X_train), 'train sequences')\n",
    "print(len(X_test), 'test sequences')\n"
   ]
  },
  {
   "cell_type": "code",
   "execution_count": 4,
   "metadata": {},
   "outputs": [
    {
     "name": "stdout",
     "output_type": "stream",
     "text": [
      "Pad sequences (samples x time)\n",
      "X_train shape: (25000, 80)\n",
      "X_test shape: (25000, 80)\n"
     ]
    }
   ],
   "source": [
    "print('Pad sequences (samples x time)')\n",
    "X_train = sequence.pad_sequences(X_train, maxlen=maxlen)\n",
    "X_test = sequence.pad_sequences(X_test, maxlen=maxlen)\n",
    "print('X_train shape:', X_train.shape)\n",
    "print('X_test shape:', X_test.shape)"
   ]
  },
  {
   "cell_type": "code",
   "execution_count": 5,
   "metadata": {},
   "outputs": [
    {
     "name": "stdout",
     "output_type": "stream",
     "text": [
      "Build model...\n",
      "_________________________________________________________________\n",
      "Layer (type)                 Output Shape              Param #   \n",
      "=================================================================\n",
      "input_1 (InputLayer)         (None, 80)                0         \n",
      "_________________________________________________________________\n",
      "embedding (Embedding)        (None, 80, 256)           5120000   \n",
      "_________________________________________________________________\n",
      "activation_1 (Activation)    (None, 80, 256)           0         \n",
      "_________________________________________________________________\n",
      "bi_lstm_0 (Bidirectional)    (None, 80, 1024)          3149824   \n",
      "_________________________________________________________________\n",
      "bi_lstm_1 (Bidirectional)    (None, 80, 1024)          6295552   \n",
      "_________________________________________________________________\n",
      "concatenate_1 (Concatenate)  (None, 80, 2304)          0         \n",
      "_________________________________________________________________\n",
      "attlayer (AttentionWeightedA (None, 2304)              2304      \n",
      "_________________________________________________________________\n",
      "softmax (Dense)              (None, 1)                 2305      \n",
      "=================================================================\n",
      "Total params: 14,569,985.0\n",
      "Trainable params: 14,569,985.0\n",
      "Non-trainable params: 0.0\n",
      "_________________________________________________________________\n"
     ]
    }
   ],
   "source": [
    "print('Build model...')\n",
    "model = deepmoji_architecture(nb_classes=2, nb_tokens=nb_tokens, maxlen=maxlen)\n",
    "model.summary()\n"
   ]
  },
  {
   "cell_type": "code",
   "execution_count": 6,
   "metadata": {},
   "outputs": [
    {
     "data": {
      "image/svg+xml": [
       "<svg height=\"620pt\" viewBox=\"0.00 0.00 605.74 620.00\" width=\"606pt\" xmlns=\"http://www.w3.org/2000/svg\" xmlns:xlink=\"http://www.w3.org/1999/xlink\">\n",
       "<g class=\"graph\" id=\"graph0\" transform=\"scale(1 1) rotate(0) translate(4 616)\">\n",
       "<title>G</title>\n",
       "<polygon fill=\"white\" points=\"-4,4 -4,-616 601.742,-616 601.742,4 -4,4\" stroke=\"none\"/>\n",
       "<!-- 4404950672 -->\n",
       "<g class=\"node\" id=\"node1\"><title>4404950672</title>\n",
       "<polygon fill=\"none\" points=\"193.614,-567.5 193.614,-611.5 454.293,-611.5 454.293,-567.5 193.614,-567.5\" stroke=\"black\"/>\n",
       "<text font-family=\"Times,serif\" font-size=\"14.00\" text-anchor=\"middle\" x=\"257.795\" y=\"-585.3\">input_1: InputLayer</text>\n",
       "<polyline fill=\"none\" points=\"321.976,-567.5 321.976,-611.5 \" stroke=\"black\"/>\n",
       "<text font-family=\"Times,serif\" font-size=\"14.00\" text-anchor=\"middle\" x=\"349.811\" y=\"-596.3\">input:</text>\n",
       "<polyline fill=\"none\" points=\"321.976,-589.5 377.645,-589.5 \" stroke=\"black\"/>\n",
       "<text font-family=\"Times,serif\" font-size=\"14.00\" text-anchor=\"middle\" x=\"349.811\" y=\"-574.3\">output:</text>\n",
       "<polyline fill=\"none\" points=\"377.645,-567.5 377.645,-611.5 \" stroke=\"black\"/>\n",
       "<text font-family=\"Times,serif\" font-size=\"14.00\" text-anchor=\"middle\" x=\"415.969\" y=\"-596.3\">(None, 80)</text>\n",
       "<polyline fill=\"none\" points=\"377.645,-589.5 454.293,-589.5 \" stroke=\"black\"/>\n",
       "<text font-family=\"Times,serif\" font-size=\"14.00\" text-anchor=\"middle\" x=\"415.969\" y=\"-574.3\">(None, 80)</text>\n",
       "</g>\n",
       "<!-- 4404951504 -->\n",
       "<g class=\"node\" id=\"node2\"><title>4404951504</title>\n",
       "<polygon fill=\"none\" points=\"168.724,-486.5 168.724,-530.5 479.183,-530.5 479.183,-486.5 168.724,-486.5\" stroke=\"black\"/>\n",
       "<text font-family=\"Times,serif\" font-size=\"14.00\" text-anchor=\"middle\" x=\"243.795\" y=\"-504.3\">embedding: Embedding</text>\n",
       "<polyline fill=\"none\" points=\"318.866,-486.5 318.866,-530.5 \" stroke=\"black\"/>\n",
       "<text font-family=\"Times,serif\" font-size=\"14.00\" text-anchor=\"middle\" x=\"346.7\" y=\"-515.3\">input:</text>\n",
       "<polyline fill=\"none\" points=\"318.866,-508.5 374.535,-508.5 \" stroke=\"black\"/>\n",
       "<text font-family=\"Times,serif\" font-size=\"14.00\" text-anchor=\"middle\" x=\"346.7\" y=\"-493.3\">output:</text>\n",
       "<polyline fill=\"none\" points=\"374.535,-486.5 374.535,-530.5 \" stroke=\"black\"/>\n",
       "<text font-family=\"Times,serif\" font-size=\"14.00\" text-anchor=\"middle\" x=\"426.859\" y=\"-515.3\">(None, 80)</text>\n",
       "<polyline fill=\"none\" points=\"374.535,-508.5 479.183,-508.5 \" stroke=\"black\"/>\n",
       "<text font-family=\"Times,serif\" font-size=\"14.00\" text-anchor=\"middle\" x=\"426.859\" y=\"-493.3\">(None, 80, 256)</text>\n",
       "</g>\n",
       "<!-- 4404950672&#45;&gt;4404951504 -->\n",
       "<g class=\"edge\" id=\"edge1\"><title>4404950672-&gt;4404951504</title>\n",
       "<path d=\"M323.954,-567.329C323.954,-559.183 323.954,-549.699 323.954,-540.797\" fill=\"none\" stroke=\"black\"/>\n",
       "<polygon fill=\"black\" points=\"327.454,-540.729 323.954,-530.729 320.454,-540.729 327.454,-540.729\" stroke=\"black\"/>\n",
       "</g>\n",
       "<!-- 4404951760 -->\n",
       "<g class=\"node\" id=\"node3\"><title>4404951760</title>\n",
       "<polygon fill=\"none\" points=\"168.334,-405.5 168.334,-449.5 479.573,-449.5 479.573,-405.5 168.334,-405.5\" stroke=\"black\"/>\n",
       "<text font-family=\"Times,serif\" font-size=\"14.00\" text-anchor=\"middle\" x=\"243.795\" y=\"-423.3\">activation_1: Activation</text>\n",
       "<polyline fill=\"none\" points=\"319.255,-405.5 319.255,-449.5 \" stroke=\"black\"/>\n",
       "<text font-family=\"Times,serif\" font-size=\"14.00\" text-anchor=\"middle\" x=\"347.09\" y=\"-434.3\">input:</text>\n",
       "<polyline fill=\"none\" points=\"319.255,-427.5 374.924,-427.5 \" stroke=\"black\"/>\n",
       "<text font-family=\"Times,serif\" font-size=\"14.00\" text-anchor=\"middle\" x=\"347.09\" y=\"-412.3\">output:</text>\n",
       "<polyline fill=\"none\" points=\"374.924,-405.5 374.924,-449.5 \" stroke=\"black\"/>\n",
       "<text font-family=\"Times,serif\" font-size=\"14.00\" text-anchor=\"middle\" x=\"427.249\" y=\"-434.3\">(None, 80, 256)</text>\n",
       "<polyline fill=\"none\" points=\"374.924,-427.5 479.573,-427.5 \" stroke=\"black\"/>\n",
       "<text font-family=\"Times,serif\" font-size=\"14.00\" text-anchor=\"middle\" x=\"427.249\" y=\"-412.3\">(None, 80, 256)</text>\n",
       "</g>\n",
       "<!-- 4404951504&#45;&gt;4404951760 -->\n",
       "<g class=\"edge\" id=\"edge2\"><title>4404951504-&gt;4404951760</title>\n",
       "<path d=\"M323.954,-486.329C323.954,-478.183 323.954,-468.699 323.954,-459.797\" fill=\"none\" stroke=\"black\"/>\n",
       "<polygon fill=\"black\" points=\"327.454,-459.729 323.954,-449.729 320.454,-459.729 327.454,-459.729\" stroke=\"black\"/>\n",
       "</g>\n",
       "<!-- 5000731344 -->\n",
       "<g class=\"node\" id=\"node4\"><title>5000731344</title>\n",
       "<polygon fill=\"none\" points=\"0,-324.5 0,-368.5 413.907,-368.5 413.907,-324.5 0,-324.5\" stroke=\"black\"/>\n",
       "<text font-family=\"Times,serif\" font-size=\"14.00\" text-anchor=\"middle\" x=\"123.295\" y=\"-342.3\">bi_lstm_0(lstm_1): Bidirectional(LSTM)</text>\n",
       "<polyline fill=\"none\" points=\"246.59,-324.5 246.59,-368.5 \" stroke=\"black\"/>\n",
       "<text font-family=\"Times,serif\" font-size=\"14.00\" text-anchor=\"middle\" x=\"274.424\" y=\"-353.3\">input:</text>\n",
       "<polyline fill=\"none\" points=\"246.59,-346.5 302.259,-346.5 \" stroke=\"black\"/>\n",
       "<text font-family=\"Times,serif\" font-size=\"14.00\" text-anchor=\"middle\" x=\"274.424\" y=\"-331.3\">output:</text>\n",
       "<polyline fill=\"none\" points=\"302.259,-324.5 302.259,-368.5 \" stroke=\"black\"/>\n",
       "<text font-family=\"Times,serif\" font-size=\"14.00\" text-anchor=\"middle\" x=\"358.083\" y=\"-353.3\">(None, 80, 256)</text>\n",
       "<polyline fill=\"none\" points=\"302.259,-346.5 413.907,-346.5 \" stroke=\"black\"/>\n",
       "<text font-family=\"Times,serif\" font-size=\"14.00\" text-anchor=\"middle\" x=\"358.083\" y=\"-331.3\">(None, 80, 1024)</text>\n",
       "</g>\n",
       "<!-- 4404951760&#45;&gt;5000731344 -->\n",
       "<g class=\"edge\" id=\"edge3\"><title>4404951760-&gt;5000731344</title>\n",
       "<path d=\"M292.6,-405.329C278.567,-395.854 261.856,-384.571 246.937,-374.498\" fill=\"none\" stroke=\"black\"/>\n",
       "<polygon fill=\"black\" points=\"248.64,-371.424 238.394,-368.729 244.723,-377.226 248.64,-371.424\" stroke=\"black\"/>\n",
       "</g>\n",
       "<!-- 4652164816 -->\n",
       "<g class=\"node\" id=\"node6\"><title>4652164816</title>\n",
       "<polygon fill=\"none\" points=\"50.165,-162.5 50.165,-206.5 597.742,-206.5 597.742,-162.5 50.165,-162.5\" stroke=\"black\"/>\n",
       "<text font-family=\"Times,serif\" font-size=\"14.00\" text-anchor=\"middle\" x=\"136.484\" y=\"-180.3\">concatenate_1: Concatenate</text>\n",
       "<polyline fill=\"none\" points=\"222.804,-162.5 222.804,-206.5 \" stroke=\"black\"/>\n",
       "<text font-family=\"Times,serif\" font-size=\"14.00\" text-anchor=\"middle\" x=\"250.638\" y=\"-191.3\">input:</text>\n",
       "<polyline fill=\"none\" points=\"222.804,-184.5 278.473,-184.5 \" stroke=\"black\"/>\n",
       "<text font-family=\"Times,serif\" font-size=\"14.00\" text-anchor=\"middle\" x=\"250.638\" y=\"-169.3\">output:</text>\n",
       "<polyline fill=\"none\" points=\"278.473,-162.5 278.473,-206.5 \" stroke=\"black\"/>\n",
       "<text font-family=\"Times,serif\" font-size=\"14.00\" text-anchor=\"middle\" x=\"438.107\" y=\"-191.3\">[(None, 80, 1024), (None, 80, 1024), (None, 80, 256)]</text>\n",
       "<polyline fill=\"none\" points=\"278.473,-184.5 597.742,-184.5 \" stroke=\"black\"/>\n",
       "<text font-family=\"Times,serif\" font-size=\"14.00\" text-anchor=\"middle\" x=\"437.797\" y=\"-169.3\">(None, 80, 2304)</text>\n",
       "</g>\n",
       "<!-- 4404951760&#45;&gt;4652164816 -->\n",
       "<g class=\"edge\" id=\"edge7\"><title>4404951760-&gt;4652164816</title>\n",
       "<path d=\"M378.747,-405.471C395.291,-396.582 411.961,-384.597 422.954,-369 449.645,-331.129 442,-312.832 441.954,-266.5\" fill=\"none\" stroke=\"black\"/>\n",
       "</g>\n",
       "<!-- 4622660112 -->\n",
       "<g class=\"node\" id=\"node5\"><title>4622660112</title>\n",
       "<polygon fill=\"none\" points=\"0,-243.5 0,-287.5 413.907,-287.5 413.907,-243.5 0,-243.5\" stroke=\"black\"/>\n",
       "<text font-family=\"Times,serif\" font-size=\"14.00\" text-anchor=\"middle\" x=\"123.295\" y=\"-261.3\">bi_lstm_1(lstm_2): Bidirectional(LSTM)</text>\n",
       "<polyline fill=\"none\" points=\"246.59,-243.5 246.59,-287.5 \" stroke=\"black\"/>\n",
       "<text font-family=\"Times,serif\" font-size=\"14.00\" text-anchor=\"middle\" x=\"274.424\" y=\"-272.3\">input:</text>\n",
       "<polyline fill=\"none\" points=\"246.59,-265.5 302.259,-265.5 \" stroke=\"black\"/>\n",
       "<text font-family=\"Times,serif\" font-size=\"14.00\" text-anchor=\"middle\" x=\"274.424\" y=\"-250.3\">output:</text>\n",
       "<polyline fill=\"none\" points=\"302.259,-243.5 302.259,-287.5 \" stroke=\"black\"/>\n",
       "<text font-family=\"Times,serif\" font-size=\"14.00\" text-anchor=\"middle\" x=\"358.083\" y=\"-272.3\">(None, 80, 1024)</text>\n",
       "<polyline fill=\"none\" points=\"302.259,-265.5 413.907,-265.5 \" stroke=\"black\"/>\n",
       "<text font-family=\"Times,serif\" font-size=\"14.00\" text-anchor=\"middle\" x=\"358.083\" y=\"-250.3\">(None, 80, 1024)</text>\n",
       "</g>\n",
       "<!-- 5000731344&#45;&gt;4622660112 -->\n",
       "<g class=\"edge\" id=\"edge4\"><title>5000731344-&gt;4622660112</title>\n",
       "<path d=\"M206.954,-324.329C206.954,-316.183 206.954,-306.699 206.954,-297.797\" fill=\"none\" stroke=\"black\"/>\n",
       "<polygon fill=\"black\" points=\"210.454,-297.729 206.954,-287.729 203.454,-297.729 210.454,-297.729\" stroke=\"black\"/>\n",
       "</g>\n",
       "<!-- 5000731344&#45;&gt;4652164816 -->\n",
       "<g class=\"edge\" id=\"edge6\"><title>5000731344-&gt;4652164816</title>\n",
       "<path d=\"M334.104,-324.488C389.481,-311.614 441.979,-292.541 441.954,-266.5\" fill=\"none\" stroke=\"black\"/>\n",
       "<path d=\"M441.954,-264.5C441.93,-240.557 424.941,-223.411 403.863,-211.35\" fill=\"none\" stroke=\"black\"/>\n",
       "<polygon fill=\"black\" points=\"405.43,-208.219 394.952,-206.65 402.164,-214.411 405.43,-208.219\" stroke=\"black\"/>\n",
       "</g>\n",
       "<!-- 4622660112&#45;&gt;4652164816 -->\n",
       "<g class=\"edge\" id=\"edge5\"><title>4622660112-&gt;4652164816</title>\n",
       "<path d=\"M238.307,-243.329C252.34,-233.854 269.051,-222.571 283.97,-212.498\" fill=\"none\" stroke=\"black\"/>\n",
       "<polygon fill=\"black\" points=\"286.184,-215.226 292.513,-206.729 282.267,-209.424 286.184,-215.226\" stroke=\"black\"/>\n",
       "</g>\n",
       "<!-- 4671701520 -->\n",
       "<g class=\"node\" id=\"node7\"><title>4671701520</title>\n",
       "<polygon fill=\"none\" points=\"131.711,-81.5 131.711,-125.5 516.196,-125.5 516.196,-81.5 131.711,-81.5\" stroke=\"black\"/>\n",
       "<text font-family=\"Times,serif\" font-size=\"14.00\" text-anchor=\"middle\" x=\"240.295\" y=\"-99.3\">attlayer: AttentionWeightedAverage</text>\n",
       "<polyline fill=\"none\" points=\"348.879,-81.5 348.879,-125.5 \" stroke=\"black\"/>\n",
       "<text font-family=\"Times,serif\" font-size=\"14.00\" text-anchor=\"middle\" x=\"376.713\" y=\"-110.3\">input:</text>\n",
       "<polyline fill=\"none\" points=\"348.879,-103.5 404.548,-103.5 \" stroke=\"black\"/>\n",
       "<text font-family=\"Times,serif\" font-size=\"14.00\" text-anchor=\"middle\" x=\"376.713\" y=\"-88.3\">output:</text>\n",
       "<polyline fill=\"none\" points=\"404.548,-81.5 404.548,-125.5 \" stroke=\"black\"/>\n",
       "<text font-family=\"Times,serif\" font-size=\"14.00\" text-anchor=\"middle\" x=\"460.372\" y=\"-110.3\">(None, 80, 2304)</text>\n",
       "<polyline fill=\"none\" points=\"404.548,-103.5 516.196,-103.5 \" stroke=\"black\"/>\n",
       "<text font-family=\"Times,serif\" font-size=\"14.00\" text-anchor=\"middle\" x=\"460.372\" y=\"-88.3\">(None, 2304)</text>\n",
       "</g>\n",
       "<!-- 4652164816&#45;&gt;4671701520 -->\n",
       "<g class=\"edge\" id=\"edge8\"><title>4652164816-&gt;4671701520</title>\n",
       "<path d=\"M323.954,-162.329C323.954,-154.183 323.954,-144.699 323.954,-135.797\" fill=\"none\" stroke=\"black\"/>\n",
       "<polygon fill=\"black\" points=\"327.454,-135.729 323.954,-125.729 320.454,-135.729 327.454,-135.729\" stroke=\"black\"/>\n",
       "</g>\n",
       "<!-- 4652238160 -->\n",
       "<g class=\"node\" id=\"node8\"><title>4652238160</title>\n",
       "<polygon fill=\"none\" points=\"199.055,-0.5 199.055,-44.5 448.852,-44.5 448.852,-0.5 199.055,-0.5\" stroke=\"black\"/>\n",
       "<text font-family=\"Times,serif\" font-size=\"14.00\" text-anchor=\"middle\" x=\"250.795\" y=\"-18.3\">softmax: Dense</text>\n",
       "<polyline fill=\"none\" points=\"302.535,-0.5 302.535,-44.5 \" stroke=\"black\"/>\n",
       "<text font-family=\"Times,serif\" font-size=\"14.00\" text-anchor=\"middle\" x=\"330.369\" y=\"-29.3\">input:</text>\n",
       "<polyline fill=\"none\" points=\"302.535,-22.5 358.204,-22.5 \" stroke=\"black\"/>\n",
       "<text font-family=\"Times,serif\" font-size=\"14.00\" text-anchor=\"middle\" x=\"330.369\" y=\"-7.3\">output:</text>\n",
       "<polyline fill=\"none\" points=\"358.204,-0.5 358.204,-44.5 \" stroke=\"black\"/>\n",
       "<text font-family=\"Times,serif\" font-size=\"14.00\" text-anchor=\"middle\" x=\"403.528\" y=\"-29.3\">(None, 2304)</text>\n",
       "<polyline fill=\"none\" points=\"358.204,-22.5 448.852,-22.5 \" stroke=\"black\"/>\n",
       "<text font-family=\"Times,serif\" font-size=\"14.00\" text-anchor=\"middle\" x=\"403.528\" y=\"-7.3\">(None, 1)</text>\n",
       "</g>\n",
       "<!-- 4671701520&#45;&gt;4652238160 -->\n",
       "<g class=\"edge\" id=\"edge9\"><title>4671701520-&gt;4652238160</title>\n",
       "<path d=\"M323.954,-81.3294C323.954,-73.1826 323.954,-63.6991 323.954,-54.7971\" fill=\"none\" stroke=\"black\"/>\n",
       "<polygon fill=\"black\" points=\"327.454,-54.729 323.954,-44.729 320.454,-54.729 327.454,-54.729\" stroke=\"black\"/>\n",
       "</g>\n",
       "</g>\n",
       "</svg>"
      ],
      "text/plain": [
       "<IPython.core.display.SVG object>"
      ]
     },
     "execution_count": 6,
     "metadata": {},
     "output_type": "execute_result"
    }
   ],
   "source": [
    "from IPython.display import SVG\n",
    "from keras.utils.vis_utils import model_to_dot\n",
    "\n",
    "SVG(model_to_dot(model, show_shapes=True).create(prog='dot', format='svg'))"
   ]
  },
  {
   "cell_type": "code",
   "execution_count": 7,
   "metadata": {
    "collapsed": true
   },
   "outputs": [],
   "source": [
    "model.compile(loss='binary_crossentropy',\n",
    "              optimizer='adam',\n",
    "              metrics=['accuracy'])"
   ]
  },
  {
   "cell_type": "code",
   "execution_count": 9,
   "metadata": {
    "scrolled": true
   },
   "outputs": [
    {
     "name": "stdout",
     "output_type": "stream",
     "text": [
      "Train...\n",
      "Train on 25000 samples, validate on 25000 samples\n",
      "Epoch 1/1\n",
      "25000/25000 [==============================] - 4090s - loss: 0.4574 - acc: 0.7872 - val_loss: 0.3873 - val_acc: 0.8356\n"
     ]
    }
   ],
   "source": [
    "print('Train...')\n",
    "history = model.fit(X_train, y_train, batch_size=batch_size, epochs=1,\n",
    "          validation_data=(X_test, y_test))"
   ]
  },
  {
   "cell_type": "code",
   "execution_count": 22,
   "metadata": {},
   "outputs": [
    {
     "name": "stdout",
     "output_type": "stream",
     "text": [
      "[0.78720000000000001]\n",
      "[0.45739857913017273]\n"
     ]
    }
   ],
   "source": [
    "print(history.history['acc'])\n",
    "\n",
    "print(history.history['loss'])"
   ]
  },
  {
   "cell_type": "code",
   "execution_count": 24,
   "metadata": {},
   "outputs": [
    {
     "data": {
      "text/plain": [
       "{'acc': [0.78720000000000001],\n",
       " 'loss': [0.45739857913017273],\n",
       " 'val_acc': [0.83555999999999997],\n",
       " 'val_loss': [0.38725190869331361]}"
      ]
     },
     "execution_count": 24,
     "metadata": {},
     "output_type": "execute_result"
    }
   ],
   "source": [
    "history.history"
   ]
  },
  {
   "cell_type": "code",
   "execution_count": 14,
   "metadata": {},
   "outputs": [
    {
     "name": "stdout",
     "output_type": "stream",
     "text": [
      "['acc', 'loss', 'val_acc', 'val_loss']\n"
     ]
    },
    {
     "data": {
      "image/png": "[encoded data removed]",
      "text/plain": [
       "<matplotlib.figure.Figure at 0x13b15fd10>"
      ]
     },
     "metadata": {},
     "output_type": "display_data"
    },
    {
     "data": {
      "image/png": "[encoded data removed]",
      "text/plain": [
       "<matplotlib.figure.Figure at 0x1181ab750>"
      ]
     },
     "metadata": {},
     "output_type": "display_data"
    }
   ],
   "source": [
    "import matplotlib.pyplot as plt\n",
    "\n",
    "# list all data in history\n",
    "print(history.history.keys())\n",
    "\n",
    "# summarize history for accuracy\n",
    "plt.plot(history.history['acc'])\n",
    "plt.plot(history.history['val_acc'])\n",
    "plt.title('model accuracy')\n",
    "plt.ylabel('accuracy')\n",
    "plt.xlabel('epoch')\n",
    "plt.legend(['train', 'test'], loc='upper left')\n",
    "plt.show()\n",
    "\n",
    "\n",
    "# summarize history for loss\n",
    "plt.plot(history.history['loss'])\n",
    "plt.plot(history.history['val_loss'])\n",
    "plt.title('model loss')\n",
    "plt.ylabel('loss')\n",
    "plt.xlabel('epoch')\n",
    "plt.legend(['train', 'test'], loc='upper left')\n",
    "plt.show()"
   ]
  },
  {
   "cell_type": "code",
   "execution_count": 11,
   "metadata": {},
   "outputs": [
    {
     "name": "stdout",
     "output_type": "stream",
     "text": [
      "25000/25000 [==============================] - 927s   \n",
      "Test score: 0.387251908693\n",
      "Test accuracy: 0.83556\n"
     ]
    }
   ],
   "source": [
    "score, acc = model.evaluate(X_test, y_test, batch_size=batch_size)\n",
    "print('Test score:', score)\n",
    "print('Test accuracy:', acc)"
   ]
  },
  {
   "cell_type": "code",
   "execution_count": null,
   "metadata": {
    "collapsed": true
   },
   "outputs": [],
   "source": []
  }
 ],
 "metadata": {
  "kernelspec": {
   "display_name": "Python 2",
   "language": "python",
   "name": "python2"
  },
  "language_info": {
   "codemirror_mode": {
    "name": "ipython",
    "version": 2
   },
   "file_extension": ".py",
   "mimetype": "text/x-python",
   "name": "python",
   "nbconvert_exporter": "python",
   "pygments_lexer": "ipython2",
   "version": "2.7.11"
  }
 },
 "nbformat": 4,
 "nbformat_minor": 2
}

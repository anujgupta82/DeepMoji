{
 "cells": [
  {
   "cell_type": "markdown",
   "metadata": {},
   "source": [
    "# implement imdb example via notebook"
   ]
  },
  {
   "cell_type": "code",
   "execution_count": 1,
   "metadata": {},
   "outputs": [],
   "source": [
    "% matplotlib inline\n",
    "%load_ext autoreload\n",
    "%autoreload 2"
   ]
  },
  {
   "cell_type": "code",
   "execution_count": 2,
   "metadata": {},
   "outputs": [
    {
     "name": "stderr",
     "output_type": "stream",
     "text": [
      "Using TensorFlow backend.\n"
     ]
    }
   ],
   "source": [
    "from __future__ import print_function\n",
    "from examples import example_helper\n",
    "import numpy as np\n",
    "from keras.preprocessing import sequence\n",
    "from keras.datasets import imdb\n",
    "from deepmoji.model_def import deepmoji_architecture"
   ]
  },
  {
   "cell_type": "code",
   "execution_count": 3,
   "metadata": {},
   "outputs": [
    {
     "name": "stdout",
     "output_type": "stream",
     "text": [
      "[name: \"/cpu:0\"\n",
      "device_type: \"CPU\"\n",
      "memory_limit: 268435456\n",
      "locality {\n",
      "}\n",
      "incarnation: 4130375257939025335\n",
      "]\n"
     ]
    }
   ],
   "source": [
    "from tensorflow.python.client import device_lib\n",
    "print(device_lib.list_local_devices())"
   ]
  },
  {
   "cell_type": "code",
   "execution_count": 4,
   "metadata": {},
   "outputs": [],
   "source": [
    "# Seed for reproducibility\n",
    "np.random.seed(1337)\n",
    "\n",
    "nb_tokens = 20000\n",
    "maxlen = 80\n",
    "batch_size = 32"
   ]
  },
  {
   "cell_type": "code",
   "execution_count": 5,
   "metadata": {},
   "outputs": [
    {
     "name": "stdout",
     "output_type": "stream",
     "text": [
      "Loading data...\n"
     ]
    },
    {
     "name": "stderr",
     "output_type": "stream",
     "text": [
      "/home/ubuntu/.virtualenv/keras_DL/local/lib/python2.7/site-packages/keras/datasets/imdb.py:45: UserWarning: The `nb_words` argument in `load_data` has been renamed `num_words`.\n",
      "  warnings.warn('The `nb_words` argument in `load_data` '\n"
     ]
    },
    {
     "name": "stdout",
     "output_type": "stream",
     "text": [
      "25000 train sequences\n",
      "25000 test sequences\n"
     ]
    }
   ],
   "source": [
    "print('Loading data...')\n",
    "(X_train, y_train), (X_test, y_test) = imdb.load_data(nb_words=nb_tokens)\n",
    "print(len(X_train), 'train sequences')\n",
    "print(len(X_test), 'test sequences')\n"
   ]
  },
  {
   "cell_type": "code",
   "execution_count": 6,
   "metadata": {},
   "outputs": [
    {
     "name": "stdout",
     "output_type": "stream",
     "text": [
      "Pad sequences (samples x time)\n",
      "X_train shape: (25000, 80)\n",
      "X_test shape: (25000, 80)\n"
     ]
    }
   ],
   "source": [
    "print('Pad sequences (samples x time)')\n",
    "X_train = sequence.pad_sequences(X_train, maxlen=maxlen)\n",
    "X_test = sequence.pad_sequences(X_test, maxlen=maxlen)\n",
    "print('X_train shape:', X_train.shape)\n",
    "print('X_test shape:', X_test.shape)"
   ]
  },
  {
   "cell_type": "code",
   "execution_count": 7,
   "metadata": {},
   "outputs": [
    {
     "name": "stdout",
     "output_type": "stream",
     "text": [
      "Build model...\n",
      "____________________________________________________________________________________________________\n",
      "Layer (type)                     Output Shape          Param #     Connected to                     \n",
      "====================================================================================================\n",
      "input_1 (InputLayer)             (None, 80)            0                                            \n",
      "____________________________________________________________________________________________________\n",
      "embedding (Embedding)            (None, 80, 256)       5120000     input_1[0][0]                    \n",
      "____________________________________________________________________________________________________\n",
      "activation_1 (Activation)        (None, 80, 256)       0           embedding[0][0]                  \n",
      "____________________________________________________________________________________________________\n",
      "bi_lstm_0 (Bidirectional)        (None, 80, 1024)      3149824     activation_1[0][0]               \n",
      "____________________________________________________________________________________________________\n",
      "bi_lstm_1 (Bidirectional)        (None, 80, 1024)      6295552     bi_lstm_0[0][0]                  \n",
      "____________________________________________________________________________________________________\n",
      "concatenate_1 (Concatenate)      (None, 80, 2304)      0           bi_lstm_1[0][0]                  \n",
      "                                                                   bi_lstm_0[0][0]                  \n",
      "                                                                   activation_1[0][0]               \n",
      "____________________________________________________________________________________________________\n",
      "attlayer (AttentionWeightedAvera (None, 2304)          2304        concatenate_1[0][0]              \n",
      "____________________________________________________________________________________________________\n",
      "softmax (Dense)                  (None, 1)             2305        attlayer[0][0]                   \n",
      "====================================================================================================\n",
      "Total params: 14,569,985\n",
      "Trainable params: 14,569,985\n",
      "Non-trainable params: 0\n",
      "____________________________________________________________________________________________________\n"
     ]
    }
   ],
   "source": [
    "print('Build model...')\n",
    "model = deepmoji_architecture(nb_classes=2, nb_tokens=nb_tokens, maxlen=maxlen)\n",
    "model.summary()\n"
   ]
  },
  {
   "cell_type": "code",
   "execution_count": 8,
   "metadata": {},
   "outputs": [
    {
     "data": {
      "image/svg+xml": [
       "<svg height=\"636pt\" viewBox=\"0.00 0.00 743.50 636.00\" width=\"744pt\" xmlns=\"http://www.w3.org/2000/svg\" xmlns:xlink=\"http://www.w3.org/1999/xlink\">\n",
       "<g class=\"graph\" id=\"graph0\" transform=\"scale(1 1) rotate(0) translate(4 632)\">\n",
       "<title>G</title>\n",
       "<polygon fill=\"white\" points=\"-4,4 -4,-632 739.5,-632 739.5,4 -4,4\" stroke=\"none\"/>\n",
       "<!-- 140400003626256 -->\n",
       "<g class=\"node\" id=\"node1\"><title>140400003626256</title>\n",
       "<polygon fill=\"none\" points=\"232,-581.5 232,-627.5 552,-627.5 552,-581.5 232,-581.5\" stroke=\"black\"/>\n",
       "<text font-family=\"Times,serif\" font-size=\"14.00\" text-anchor=\"middle\" x=\"312\" y=\"-600.8\">input_1: InputLayer</text>\n",
       "<polyline fill=\"none\" points=\"392,-581.5 392,-627.5 \" stroke=\"black\"/>\n",
       "<text font-family=\"Times,serif\" font-size=\"14.00\" text-anchor=\"middle\" x=\"426\" y=\"-612.3\">input:</text>\n",
       "<polyline fill=\"none\" points=\"392,-604.5 460,-604.5 \" stroke=\"black\"/>\n",
       "<text font-family=\"Times,serif\" font-size=\"14.00\" text-anchor=\"middle\" x=\"426\" y=\"-589.3\">output:</text>\n",
       "<polyline fill=\"none\" points=\"460,-581.5 460,-627.5 \" stroke=\"black\"/>\n",
       "<text font-family=\"Times,serif\" font-size=\"14.00\" text-anchor=\"middle\" x=\"506\" y=\"-612.3\">(None, 80)</text>\n",
       "<polyline fill=\"none\" points=\"460,-604.5 552,-604.5 \" stroke=\"black\"/>\n",
       "<text font-family=\"Times,serif\" font-size=\"14.00\" text-anchor=\"middle\" x=\"506\" y=\"-589.3\">(None, 80)</text>\n",
       "</g>\n",
       "<!-- 140399071587536 -->\n",
       "<g class=\"node\" id=\"node2\"><title>140399071587536</title>\n",
       "<polygon fill=\"none\" points=\"200.5,-498.5 200.5,-544.5 583.5,-544.5 583.5,-498.5 200.5,-498.5\" stroke=\"black\"/>\n",
       "<text font-family=\"Times,serif\" font-size=\"14.00\" text-anchor=\"middle\" x=\"294\" y=\"-517.8\">embedding: Embedding</text>\n",
       "<polyline fill=\"none\" points=\"387.5,-498.5 387.5,-544.5 \" stroke=\"black\"/>\n",
       "<text font-family=\"Times,serif\" font-size=\"14.00\" text-anchor=\"middle\" x=\"421.5\" y=\"-529.3\">input:</text>\n",
       "<polyline fill=\"none\" points=\"387.5,-521.5 455.5,-521.5 \" stroke=\"black\"/>\n",
       "<text font-family=\"Times,serif\" font-size=\"14.00\" text-anchor=\"middle\" x=\"421.5\" y=\"-506.3\">output:</text>\n",
       "<polyline fill=\"none\" points=\"455.5,-498.5 455.5,-544.5 \" stroke=\"black\"/>\n",
       "<text font-family=\"Times,serif\" font-size=\"14.00\" text-anchor=\"middle\" x=\"519.5\" y=\"-529.3\">(None, 80)</text>\n",
       "<polyline fill=\"none\" points=\"455.5,-521.5 583.5,-521.5 \" stroke=\"black\"/>\n",
       "<text font-family=\"Times,serif\" font-size=\"14.00\" text-anchor=\"middle\" x=\"519.5\" y=\"-506.3\">(None, 80, 256)</text>\n",
       "</g>\n",
       "<!-- 140400003626256&#45;&gt;140399071587536 -->\n",
       "<g class=\"edge\" id=\"edge1\"><title>140400003626256-&gt;140399071587536</title>\n",
       "<path d=\"M392,-581.366C392,-573.152 392,-563.658 392,-554.725\" fill=\"none\" stroke=\"black\"/>\n",
       "<polygon fill=\"black\" points=\"395.5,-554.607 392,-544.607 388.5,-554.607 395.5,-554.607\" stroke=\"black\"/>\n",
       "</g>\n",
       "<!-- 140399005381328 -->\n",
       "<g class=\"node\" id=\"node3\"><title>140399005381328</title>\n",
       "<polygon fill=\"none\" points=\"200.5,-415.5 200.5,-461.5 583.5,-461.5 583.5,-415.5 200.5,-415.5\" stroke=\"black\"/>\n",
       "<text font-family=\"Times,serif\" font-size=\"14.00\" text-anchor=\"middle\" x=\"294\" y=\"-434.8\">activation_1: Activation</text>\n",
       "<polyline fill=\"none\" points=\"387.5,-415.5 387.5,-461.5 \" stroke=\"black\"/>\n",
       "<text font-family=\"Times,serif\" font-size=\"14.00\" text-anchor=\"middle\" x=\"421.5\" y=\"-446.3\">input:</text>\n",
       "<polyline fill=\"none\" points=\"387.5,-438.5 455.5,-438.5 \" stroke=\"black\"/>\n",
       "<text font-family=\"Times,serif\" font-size=\"14.00\" text-anchor=\"middle\" x=\"421.5\" y=\"-423.3\">output:</text>\n",
       "<polyline fill=\"none\" points=\"455.5,-415.5 455.5,-461.5 \" stroke=\"black\"/>\n",
       "<text font-family=\"Times,serif\" font-size=\"14.00\" text-anchor=\"middle\" x=\"519.5\" y=\"-446.3\">(None, 80, 256)</text>\n",
       "<polyline fill=\"none\" points=\"455.5,-438.5 583.5,-438.5 \" stroke=\"black\"/>\n",
       "<text font-family=\"Times,serif\" font-size=\"14.00\" text-anchor=\"middle\" x=\"519.5\" y=\"-423.3\">(None, 80, 256)</text>\n",
       "</g>\n",
       "<!-- 140399071587536&#45;&gt;140399005381328 -->\n",
       "<g class=\"edge\" id=\"edge2\"><title>140399071587536-&gt;140399005381328</title>\n",
       "<path d=\"M392,-498.366C392,-490.152 392,-480.658 392,-471.725\" fill=\"none\" stroke=\"black\"/>\n",
       "<polygon fill=\"black\" points=\"395.5,-471.607 392,-461.607 388.5,-471.607 395.5,-471.607\" stroke=\"black\"/>\n",
       "</g>\n",
       "<!-- 140398763003472 -->\n",
       "<g class=\"node\" id=\"node4\"><title>140398763003472</title>\n",
       "<polygon fill=\"none\" points=\"0,-332.5 0,-378.5 504,-378.5 504,-332.5 0,-332.5\" stroke=\"black\"/>\n",
       "<text font-family=\"Times,serif\" font-size=\"14.00\" text-anchor=\"middle\" x=\"149.5\" y=\"-351.8\">bi_lstm_0(lstm_1): Bidirectional(LSTM)</text>\n",
       "<polyline fill=\"none\" points=\"299,-332.5 299,-378.5 \" stroke=\"black\"/>\n",
       "<text font-family=\"Times,serif\" font-size=\"14.00\" text-anchor=\"middle\" x=\"333\" y=\"-363.3\">input:</text>\n",
       "<polyline fill=\"none\" points=\"299,-355.5 367,-355.5 \" stroke=\"black\"/>\n",
       "<text font-family=\"Times,serif\" font-size=\"14.00\" text-anchor=\"middle\" x=\"333\" y=\"-340.3\">output:</text>\n",
       "<polyline fill=\"none\" points=\"367,-332.5 367,-378.5 \" stroke=\"black\"/>\n",
       "<text font-family=\"Times,serif\" font-size=\"14.00\" text-anchor=\"middle\" x=\"435.5\" y=\"-363.3\">(None, 80, 256)</text>\n",
       "<polyline fill=\"none\" points=\"367,-355.5 504,-355.5 \" stroke=\"black\"/>\n",
       "<text font-family=\"Times,serif\" font-size=\"14.00\" text-anchor=\"middle\" x=\"435.5\" y=\"-340.3\">(None, 80, 1024)</text>\n",
       "</g>\n",
       "<!-- 140399005381328&#45;&gt;140398763003472 -->\n",
       "<g class=\"edge\" id=\"edge3\"><title>140399005381328-&gt;140398763003472</title>\n",
       "<path d=\"M353.744,-415.366C336.922,-405.634 316.997,-394.106 299.258,-383.842\" fill=\"none\" stroke=\"black\"/>\n",
       "<polygon fill=\"black\" points=\"300.618,-380.585 290.209,-378.607 297.112,-386.644 300.618,-380.585\" stroke=\"black\"/>\n",
       "</g>\n",
       "<!-- 140398992093584 -->\n",
       "<g class=\"node\" id=\"node6\"><title>140398992093584</title>\n",
       "<polygon fill=\"none\" points=\"48.5,-166.5 48.5,-212.5 735.5,-212.5 735.5,-166.5 48.5,-166.5\" stroke=\"black\"/>\n",
       "<text font-family=\"Times,serif\" font-size=\"14.00\" text-anchor=\"middle\" x=\"159\" y=\"-185.8\">concatenate_1: Concatenate</text>\n",
       "<polyline fill=\"none\" points=\"269.5,-166.5 269.5,-212.5 \" stroke=\"black\"/>\n",
       "<text font-family=\"Times,serif\" font-size=\"14.00\" text-anchor=\"middle\" x=\"303.5\" y=\"-197.3\">input:</text>\n",
       "<polyline fill=\"none\" points=\"269.5,-189.5 337.5,-189.5 \" stroke=\"black\"/>\n",
       "<text font-family=\"Times,serif\" font-size=\"14.00\" text-anchor=\"middle\" x=\"303.5\" y=\"-174.3\">output:</text>\n",
       "<polyline fill=\"none\" points=\"337.5,-166.5 337.5,-212.5 \" stroke=\"black\"/>\n",
       "<text font-family=\"Times,serif\" font-size=\"14.00\" text-anchor=\"middle\" x=\"536.5\" y=\"-197.3\">[(None, 80, 1024), (None, 80, 1024), (None, 80, 256)]</text>\n",
       "<polyline fill=\"none\" points=\"337.5,-189.5 735.5,-189.5 \" stroke=\"black\"/>\n",
       "<text font-family=\"Times,serif\" font-size=\"14.00\" text-anchor=\"middle\" x=\"536.5\" y=\"-174.3\">(None, 80, 2304)</text>\n",
       "</g>\n",
       "<!-- 140399005381328&#45;&gt;140398992093584 -->\n",
       "<g class=\"edge\" id=\"edge7\"><title>140399005381328-&gt;140398992093584</title>\n",
       "<path d=\"M465.472,-415.363C483.435,-406.691 500.937,-394.89 513,-379 541.807,-341.052 532,-321.143 532,-273.5\" fill=\"none\" stroke=\"black\"/>\n",
       "</g>\n",
       "<!-- 140398993875216 -->\n",
       "<g class=\"node\" id=\"node5\"><title>140398993875216</title>\n",
       "<polygon fill=\"none\" points=\"0,-249.5 0,-295.5 504,-295.5 504,-249.5 0,-249.5\" stroke=\"black\"/>\n",
       "<text font-family=\"Times,serif\" font-size=\"14.00\" text-anchor=\"middle\" x=\"149.5\" y=\"-268.8\">bi_lstm_1(lstm_2): Bidirectional(LSTM)</text>\n",
       "<polyline fill=\"none\" points=\"299,-249.5 299,-295.5 \" stroke=\"black\"/>\n",
       "<text font-family=\"Times,serif\" font-size=\"14.00\" text-anchor=\"middle\" x=\"333\" y=\"-280.3\">input:</text>\n",
       "<polyline fill=\"none\" points=\"299,-272.5 367,-272.5 \" stroke=\"black\"/>\n",
       "<text font-family=\"Times,serif\" font-size=\"14.00\" text-anchor=\"middle\" x=\"333\" y=\"-257.3\">output:</text>\n",
       "<polyline fill=\"none\" points=\"367,-249.5 367,-295.5 \" stroke=\"black\"/>\n",
       "<text font-family=\"Times,serif\" font-size=\"14.00\" text-anchor=\"middle\" x=\"435.5\" y=\"-280.3\">(None, 80, 1024)</text>\n",
       "<polyline fill=\"none\" points=\"367,-272.5 504,-272.5 \" stroke=\"black\"/>\n",
       "<text font-family=\"Times,serif\" font-size=\"14.00\" text-anchor=\"middle\" x=\"435.5\" y=\"-257.3\">(None, 80, 1024)</text>\n",
       "</g>\n",
       "<!-- 140398763003472&#45;&gt;140398993875216 -->\n",
       "<g class=\"edge\" id=\"edge4\"><title>140398763003472-&gt;140398993875216</title>\n",
       "<path d=\"M252,-332.366C252,-324.152 252,-314.658 252,-305.725\" fill=\"none\" stroke=\"black\"/>\n",
       "<polygon fill=\"black\" points=\"255.5,-305.607 252,-295.607 248.5,-305.607 255.5,-305.607\" stroke=\"black\"/>\n",
       "</g>\n",
       "<!-- 140398763003472&#45;&gt;140398992093584 -->\n",
       "<g class=\"edge\" id=\"edge6\"><title>140398763003472-&gt;140398992093584</title>\n",
       "<path d=\"M422.542,-332.415C481.006,-319.944 532,-301.143 532,-273.5\" fill=\"none\" stroke=\"black\"/>\n",
       "<path d=\"M532,-271.5C532,-246.586 515.184,-229.212 493.208,-217.144\" fill=\"none\" stroke=\"black\"/>\n",
       "<polygon fill=\"black\" points=\"494.717,-213.985 484.212,-212.614 491.569,-220.237 494.717,-213.985\" stroke=\"black\"/>\n",
       "</g>\n",
       "<!-- 140398993875216&#45;&gt;140398992093584 -->\n",
       "<g class=\"edge\" id=\"edge5\"><title>140398993875216-&gt;140398992093584</title>\n",
       "<path d=\"M290.256,-249.366C307.078,-239.634 327.003,-228.106 344.742,-217.842\" fill=\"none\" stroke=\"black\"/>\n",
       "<polygon fill=\"black\" points=\"346.888,-220.644 353.791,-212.607 343.382,-214.585 346.888,-220.644\" stroke=\"black\"/>\n",
       "</g>\n",
       "<!-- 140398992093712 -->\n",
       "<g class=\"node\" id=\"node7\"><title>140398992093712</title>\n",
       "<polygon fill=\"none\" points=\"152,-83.5 152,-129.5 632,-129.5 632,-83.5 152,-83.5\" stroke=\"black\"/>\n",
       "<text font-family=\"Times,serif\" font-size=\"14.00\" text-anchor=\"middle\" x=\"289.5\" y=\"-102.8\">attlayer: AttentionWeightedAverage</text>\n",
       "<polyline fill=\"none\" points=\"427,-83.5 427,-129.5 \" stroke=\"black\"/>\n",
       "<text font-family=\"Times,serif\" font-size=\"14.00\" text-anchor=\"middle\" x=\"461\" y=\"-114.3\">input:</text>\n",
       "<polyline fill=\"none\" points=\"427,-106.5 495,-106.5 \" stroke=\"black\"/>\n",
       "<text font-family=\"Times,serif\" font-size=\"14.00\" text-anchor=\"middle\" x=\"461\" y=\"-91.3\">output:</text>\n",
       "<polyline fill=\"none\" points=\"495,-83.5 495,-129.5 \" stroke=\"black\"/>\n",
       "<text font-family=\"Times,serif\" font-size=\"14.00\" text-anchor=\"middle\" x=\"563.5\" y=\"-114.3\">(None, 80, 2304)</text>\n",
       "<polyline fill=\"none\" points=\"495,-106.5 632,-106.5 \" stroke=\"black\"/>\n",
       "<text font-family=\"Times,serif\" font-size=\"14.00\" text-anchor=\"middle\" x=\"563.5\" y=\"-91.3\">(None, 2304)</text>\n",
       "</g>\n",
       "<!-- 140398992093584&#45;&gt;140398992093712 -->\n",
       "<g class=\"edge\" id=\"edge8\"><title>140398992093584-&gt;140398992093712</title>\n",
       "<path d=\"M392,-166.366C392,-158.152 392,-148.658 392,-139.725\" fill=\"none\" stroke=\"black\"/>\n",
       "<polygon fill=\"black\" points=\"395.5,-139.607 392,-129.607 388.5,-139.607 395.5,-139.607\" stroke=\"black\"/>\n",
       "</g>\n",
       "<!-- 140398762106640 -->\n",
       "<g class=\"node\" id=\"node8\"><title>140398762106640</title>\n",
       "<polygon fill=\"none\" points=\"239.5,-0.5 239.5,-46.5 544.5,-46.5 544.5,-0.5 239.5,-0.5\" stroke=\"black\"/>\n",
       "<text font-family=\"Times,serif\" font-size=\"14.00\" text-anchor=\"middle\" x=\"303\" y=\"-19.8\">softmax: Dense</text>\n",
       "<polyline fill=\"none\" points=\"366.5,-0.5 366.5,-46.5 \" stroke=\"black\"/>\n",
       "<text font-family=\"Times,serif\" font-size=\"14.00\" text-anchor=\"middle\" x=\"400.5\" y=\"-31.3\">input:</text>\n",
       "<polyline fill=\"none\" points=\"366.5,-23.5 434.5,-23.5 \" stroke=\"black\"/>\n",
       "<text font-family=\"Times,serif\" font-size=\"14.00\" text-anchor=\"middle\" x=\"400.5\" y=\"-8.3\">output:</text>\n",
       "<polyline fill=\"none\" points=\"434.5,-0.5 434.5,-46.5 \" stroke=\"black\"/>\n",
       "<text font-family=\"Times,serif\" font-size=\"14.00\" text-anchor=\"middle\" x=\"489.5\" y=\"-31.3\">(None, 2304)</text>\n",
       "<polyline fill=\"none\" points=\"434.5,-23.5 544.5,-23.5 \" stroke=\"black\"/>\n",
       "<text font-family=\"Times,serif\" font-size=\"14.00\" text-anchor=\"middle\" x=\"489.5\" y=\"-8.3\">(None, 1)</text>\n",
       "</g>\n",
       "<!-- 140398992093712&#45;&gt;140398762106640 -->\n",
       "<g class=\"edge\" id=\"edge9\"><title>140398992093712-&gt;140398762106640</title>\n",
       "<path d=\"M392,-83.3664C392,-75.1516 392,-65.6579 392,-56.7252\" fill=\"none\" stroke=\"black\"/>\n",
       "<polygon fill=\"black\" points=\"395.5,-56.6068 392,-46.6068 388.5,-56.6069 395.5,-56.6068\" stroke=\"black\"/>\n",
       "</g>\n",
       "</g>\n",
       "</svg>"
      ],
      "text/plain": [
       "<IPython.core.display.SVG object>"
      ]
     },
     "execution_count": 8,
     "metadata": {},
     "output_type": "execute_result"
    }
   ],
   "source": [
    "from IPython.display import SVG\n",
    "from keras.utils.vis_utils import model_to_dot\n",
    "\n",
    "SVG(model_to_dot(model, show_shapes=True).create(prog='dot', format='svg'))"
   ]
  },
  {
   "cell_type": "code",
   "execution_count": 9,
   "metadata": {},
   "outputs": [],
   "source": [
    "model.compile(loss='binary_crossentropy',\n",
    "              optimizer='adam',\n",
    "              metrics=['accuracy'])"
   ]
  },
  {
   "cell_type": "code",
   "execution_count": null,
   "metadata": {
    "scrolled": true
   },
   "outputs": [
    {
     "name": "stdout",
     "output_type": "stream",
     "text": [
      "Train...\n",
      "Train on 25000 samples, validate on 25000 samples\n",
      "Epoch 1/1\n",
      "  832/25000 [..............................] - ETA: 2616s - loss: 0.5289 - acc: 0.7368"
     ]
    }
   ],
   "source": [
    "print('Train...')\n",
    "history = model.fit(X_train, y_train, batch_size=batch_size, epochs=1,\n",
    "          validation_data=(X_test, y_test))"
   ]
  },
  {
   "cell_type": "code",
   "execution_count": null,
   "metadata": {},
   "outputs": [],
   "source": [
    "print(history.history['acc'])\n",
    "\n",
    "print(history.history['loss'])"
   ]
  },
  {
   "cell_type": "code",
   "execution_count": null,
   "metadata": {},
   "outputs": [],
   "source": [
    "history.history"
   ]
  },
  {
   "cell_type": "code",
   "execution_count": null,
   "metadata": {},
   "outputs": [],
   "source": [
    "import matplotlib.pyplot as plt\n",
    "\n",
    "# list all data in history\n",
    "print(history.history.keys())\n",
    "\n",
    "# summarize history for accuracy\n",
    "plt.plot(history.history['acc'])\n",
    "plt.plot(history.history['val_acc'])\n",
    "plt.title('model accuracy')\n",
    "plt.ylabel('accuracy')\n",
    "plt.xlabel('epoch')\n",
    "plt.legend(['train', 'test'], loc='upper left')\n",
    "plt.show()\n",
    "\n",
    "\n",
    "# summarize history for loss\n",
    "plt.plot(history.history['loss'])\n",
    "plt.plot(history.history['val_loss'])\n",
    "plt.title('model loss')\n",
    "plt.ylabel('loss')\n",
    "plt.xlabel('epoch')\n",
    "plt.legend(['train', 'test'], loc='upper left')\n",
    "plt.show()"
   ]
  },
  {
   "cell_type": "code",
   "execution_count": null,
   "metadata": {},
   "outputs": [],
   "source": [
    "score, acc = model.evaluate(X_test, y_test, batch_size=batch_size)\n",
    "print('Test score:', score)\n",
    "print('Test accuracy:', acc)"
   ]
  },
  {
   "cell_type": "code",
   "execution_count": null,
   "metadata": {},
   "outputs": [],
   "source": []
  }
 ],
 "metadata": {
  "kernelspec": {
   "display_name": "Python 2",
   "language": "python",
   "name": "python2"
  },
  "language_info": {
   "codemirror_mode": {
    "name": "ipython",
    "version": 2
   },
   "file_extension": ".py",
   "mimetype": "text/x-python",
   "name": "python",
   "nbconvert_exporter": "python",
   "pygments_lexer": "ipython2",
   "version": "2.7.12"
  }
 },
 "nbformat": 4,
 "nbformat_minor": 2
}
